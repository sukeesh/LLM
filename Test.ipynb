{
 "cells": [
  {
   "cell_type": "code",
   "execution_count": 11,
   "id": "95dcbaaa-44ab-4200-b14c-4615402ff850",
   "metadata": {},
   "outputs": [],
   "source": [
    "import torch"
   ]
  },
  {
   "cell_type": "code",
   "execution_count": 32,
   "id": "9cddc14b-107f-442d-97d6-8770e7753f16",
   "metadata": {},
   "outputs": [],
   "source": [
    "K = torch.rand(5, 2, 3, 4)"
   ]
  },
  {
   "cell_type": "code",
   "execution_count": 33,
   "id": "c1972df8-7880-49d6-bb6f-9446b01a5f18",
   "metadata": {},
   "outputs": [
    {
     "data": {
      "text/plain": [
       "tensor([[[[0.9349, 0.2937, 0.9626, 0.3975],\n",
       "          [0.9406, 0.9594, 0.0342, 0.4182],\n",
       "          [0.6001, 0.5613, 0.5869, 0.7342]],\n",
       "\n",
       "         [[0.5480, 0.6477, 0.9501, 0.0384],\n",
       "          [0.2934, 0.9002, 0.0114, 0.6756],\n",
       "          [0.6107, 0.6303, 0.9808, 0.7868]]],\n",
       "\n",
       "\n",
       "        [[[0.6107, 0.2356, 0.3663, 0.4578],\n",
       "          [0.7327, 0.4337, 0.7631, 0.5794],\n",
       "          [0.5105, 0.9554, 0.5180, 0.0190]],\n",
       "\n",
       "         [[0.1091, 0.8859, 0.5180, 0.8659],\n",
       "          [0.4828, 0.9057, 0.4370, 0.7248],\n",
       "          [0.0316, 0.5530, 0.6426, 0.6253]]],\n",
       "\n",
       "\n",
       "        [[[0.8738, 0.9637, 0.3026, 0.4599],\n",
       "          [0.0576, 0.4012, 0.1064, 0.0211],\n",
       "          [0.2591, 0.8604, 0.3158, 0.0957]],\n",
       "\n",
       "         [[0.1131, 0.6873, 0.1231, 0.9068],\n",
       "          [0.0745, 0.2615, 0.4897, 0.7396],\n",
       "          [0.2042, 0.1452, 0.8393, 0.1530]]],\n",
       "\n",
       "\n",
       "        [[[0.4371, 0.3625, 0.9679, 0.9786],\n",
       "          [0.1836, 0.6223, 0.0909, 0.3463],\n",
       "          [0.1362, 0.0167, 0.8780, 0.5526]],\n",
       "\n",
       "         [[0.7822, 0.7184, 0.0608, 0.7774],\n",
       "          [0.4195, 0.7653, 0.1681, 0.9344],\n",
       "          [0.2410, 0.6686, 0.6165, 0.4832]]],\n",
       "\n",
       "\n",
       "        [[[0.0267, 0.3059, 0.1376, 0.4711],\n",
       "          [0.1535, 0.8466, 0.0064, 0.0325],\n",
       "          [0.8587, 0.3858, 0.0802, 0.4978]],\n",
       "\n",
       "         [[0.0220, 0.3480, 0.7439, 0.1244],\n",
       "          [0.0581, 0.7355, 0.1433, 0.9056],\n",
       "          [0.0369, 0.0679, 0.0663, 0.9275]]]])"
      ]
     },
     "execution_count": 33,
     "metadata": {},
     "output_type": "execute_result"
    }
   ],
   "source": [
    "K"
   ]
  },
  {
   "cell_type": "code",
   "execution_count": 36,
   "id": "36fc0e04-d83c-42d2-93d2-652210d4c06b",
   "metadata": {},
   "outputs": [
    {
     "data": {
      "text/plain": [
       "torch.Size([5, 3, 2, 4])"
      ]
     },
     "execution_count": 36,
     "metadata": {},
     "output_type": "execute_result"
    }
   ],
   "source": [
    "K.transpose(-2, -3).shape"
   ]
  },
  {
   "cell_type": "code",
   "execution_count": null,
   "id": "f2880120-b643-4519-aa3c-10c1b9ac162b",
   "metadata": {},
   "outputs": [],
   "source": []
  }
 ],
 "metadata": {
  "kernelspec": {
   "display_name": "Python 3 (ipykernel)",
   "language": "python",
   "name": "python3"
  },
  "language_info": {
   "codemirror_mode": {
    "name": "ipython",
    "version": 3
   },
   "file_extension": ".py",
   "mimetype": "text/x-python",
   "name": "python",
   "nbconvert_exporter": "python",
   "pygments_lexer": "ipython3",
   "version": "3.11.9"
  }
 },
 "nbformat": 4,
 "nbformat_minor": 5
}
